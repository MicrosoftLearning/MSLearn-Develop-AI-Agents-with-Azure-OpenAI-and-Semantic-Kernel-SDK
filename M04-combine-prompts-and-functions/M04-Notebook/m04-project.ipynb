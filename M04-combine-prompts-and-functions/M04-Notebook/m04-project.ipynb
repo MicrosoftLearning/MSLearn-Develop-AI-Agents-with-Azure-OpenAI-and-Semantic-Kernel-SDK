{
 "cells": [
  {
   "attachments": {},
   "cell_type": "markdown",
   "metadata": {},
   "source": [
    "# 프롬프트에서 함수 사용\n",
    "\n",
    "시맨틱 커널 SDK의 템플릿 언어를 사용하면 동적 프롬프트를 만들 수 있습니다. 이 언어는 세 가지 기능을 지원합니다.\n",
    "\n",
    "- 변수 사용.\n",
    "- 외부 함수 호출.\n",
    "- 함수에 인수 전달.\n",
    "\n",
    "프롬프트에 식을 포함하기 위해 템플릿 언어는 중괄호 `{{...}}`을 사용하고 변수는 달러 기호 $로 표시됩니다. 호출하는 함수는 커널에 로드하는 플러그 인의 일부여야 합니다. 예를 들어, 프롬프트 내에서 함수를 호출하려면 다음 구문을 사용할 수 있습니다.\n",
    "\n",
    "`{{plugin.functionName $argument}}`\n",
    "\n",
    "프롬프트에서 함수를 호출하기 전에 함수가 포함된 플러그 인이 커널에 로드되었는지 확인해야 합니다. 프롬프트 내에 함수를 중첩하면 프롬프트에 사용되는 토큰 수를 줄이거나 모델에 추가 컨텍스트를 제공하여 결과를 개선하는 데 도움이 될 수 있습니다.\n"
   ]
  },
  {
   "cell_type": "code",
   "execution_count": 1,
   "metadata": {},
   "outputs": [
    {
     "data": {
      "text/html": [
       "<div><div></div><div></div><div><strong>Installed Packages</strong><ul><li><span>Microsoft.SemanticKernel, 1.18.2</span></li><li><span>Microsoft.SemanticKernel.Plugins.Core, 1.18.2-alpha</span></li></ul></div></div>"
      ]
     },
     "metadata": {},
     "output_type": "display_data"
    }
   ],
   "source": [
    "// Load some helper functions, e.g. to load values from settings.json\n",
    "#!import config/Settings.cs\n",
    "#r \"nuget: Microsoft.SemanticKernel\"\n",
    "#r \"nuget: Microsoft.SemanticKernel.Plugins.Core, 1.18.2-alpha\"\n",
    "\n",
    "using Microsoft.SemanticKernel;\n",
    "using Kernel = Microsoft.SemanticKernel.Kernel;\n",
    "using Microsoft.SemanticKernel.Plugins.Core;\n",
    "using System.ComponentModel;\n",
    "using System.Text.Json;\n",
    "\n",
    "var builder = Kernel.CreateBuilder();\n",
    "\n",
    "var (useAzureOpenAI, model, azureEndpoint, apiKey, orgId) = Settings.LoadFromFile();\n",
    "\n",
    "if (useAzureOpenAI)\n",
    "    builder.AddAzureOpenAIChatCompletion(model, azureEndpoint, apiKey);\n",
    "else\n",
    "    builder.AddOpenAIChatCompletion(model, apiKey, orgId);\n",
    "\n",
    "var kernel = builder.Build();"
   ]
  },
  {
   "cell_type": "markdown",
   "metadata": {},
   "source": [
    "일부 사용자 정보를 기반으로 레시피 목록을 권장하라는 프롬프트가 있다고 가정해 보겠습니다."
   ]
  },
  {
   "cell_type": "code",
   "execution_count": 2,
   "metadata": {},
   "outputs": [
    {
     "name": "stdout",
     "output_type": "stream",
     "text": [
      "분주한 주방에서 까다로운 입맛과 알레르기 문제를 고려하여, 아이들도 좋아할 수 있는 몇 가지 건강한 채식 요리 레시피를 소개해드리겠습니다. 아이들이 초록색 채소를 먹지 않으려 하고 땅콩 알레르기도 있으니, 이를 염두에 두고 준비했습니다.\n",
      "\n",
      "### 1. **색색의 채소 퀴노아 볶음**\n",
      "퀴노아는 영양가가 높으면서도 중립적인 맛을 가지고 있어서 아이들에게 잘 맞을 수 있습니다. 다양한 색상의 채소를 사용해 재미있고 맛있는 요리를 만들어보세요.\n",
      "\n",
      "#### **재료:**\n",
      "- 퀴노아 1 컵\n",
      "- 빨간, 노란 파프리카 각각 반 컵씩 (다른 색상의 채소도 사용 가능)\n",
      "- 당근 1 개 (잘게 썬 것)\n",
      "- 옥수수 1/2 컵\n",
      "- 강낭콩 1 컵 (불린 것)\n",
      "- 마늘 2 쪽 (다진 것)\n",
      "- 양파 1 개 (다진 것)\n",
      "- 올리브 오일 2 큰술\n",
      "- 소금 및 후추 약간\n",
      "\n",
      "#### **조리 방법:**\n",
      "1. 퀴노아를 찬물에 헹군 후, 물 2 컵과 함께 냄비에 넣고 끓입니다. 물이 끓으면 불을 줄이고 15분간 조립니다.\n",
      "2. 큰 팬에 올리브 오일을 두르고 다진 양파와 마늘을 넣어 중간 불에서 볶습니다.\n",
      "3. 양파가 투명해지면 파프리카, 당근, 옥수수, 강낭콩을 넣고 잘 섞으면서 볶습니다.\n",
      "4. 모든 채소가 다 익으면 조리한 퀴노아를 넣고 잘 섞습니다.\n",
      "5. 소금과 후추로 간을 맞추고 저어줍니다.\n",
      "\n",
      "### 2. **부드러운 렌틸콩 커리**\n",
      "렌틸콩은 단백질이 풍부하고, 아이들에게 맛있게 먹일 수 있는 훌륭한 재료입니다. 부드러운 커리 소스는 초록색 채소 없이도 맛을 낼 수 있습니다.\n",
      "\n",
      "#### **재료:**\n",
      "- 렌틸콩 1 컵 (불린 것)\n",
      "- 토마토 2 개 (잘게 썬 것)\n",
      "- 코코넛 밀크 1 컵\n",
      "- 양파 1 개 (다진 것)\n",
      "- 마늘 3 쪽 (다진 것)\n",
      "- 생강 1 작은술 (다진 것)\n",
      "- 커리 가루 1 큰술\n",
      "- 고수 가루 1 작은술\n",
      "- 소금\n",
      "\n",
      "#### **조리 방법:**\n",
      "1. 큰 냄비에 다진 양파, 마늘, 생강을 올리브 오일로 볶습니다.\n",
      "2. 양파가 투명해지면 토마토를 추가하고 끓입니다.\n",
      "3. 토마토가 부드러워질 때까지 끓인 후, 불린 렌틸콩을 넣습니다.\n",
      "4. 코코넛 밀크와 커리 가루, 고수 가루를 넣고 잘 섞습니다.\n",
      "5. 혼합물을 중간 불에서 20-30분 간 저어가며 끓입니다.\n",
      "6. 마지막으로 소금으로 간을 맞추고 따뜻하게 서빙합니다.\n",
      "\n",
      "### 3. **구운 채소 퀘사디야**\n",
      "채소를 씹는 느낌이 좋아 아이들도 잘 먹을 수 있는 간편한 요리입니다.\n",
      "\n",
      "#### **재료:**\n",
      "- 통밀 또띠야 4 장\n",
      "- 빨간, 노란 파프리카 각각 1 개씩 (얇게 썬 것)\n",
      "- 양파 1 개 (얇게 썬 것)\n",
      "- 버섯 1 컵 (얇게 썬 것)\n",
      "- 옥수수 1/2 컵\n",
      "- 슈레드 치즈 (비건 치즈로 대체 가능)\n",
      "- 올리브 오일\n",
      "- 소금 및 후추 약간\n",
      "\n",
      "#### **조리 방법:**\n",
      "1. 팬에 올리브 오일을 넣고 얇게 썬 파프리카, 양파, 버섯을 볶습니다. 소금과 후추로 간을 맞춥니다.\n",
      "2. 채소가 부드러워질 때까지 볶습니다.\n",
      "3. 또띠야 한 장을 평평한 표면에 놓고, 준비한 채소를 반쪽에 고루 펴줍니다. 그 위에 슈레드 치즈를 뿌립니다.\n",
      "4. 또띠야를 반으로 접어 팬에 약간의 기름을 두르고 노릇노릇하게 구워줍니다.\n",
      "5. 양쪽이 고르게 익으면 잘라서 서빙합니다.\n",
      "\n",
      "이 레시피들은 건강하면서도 아이들이 먹기 좋게 만들어졌으며, 녹색 채소를 피하면서도 다양한 영양소를 공급할 수 있습니다. 즐거운 요리와 함께 행복한 식사시간 되세요!\r\n"
     ]
    }
   ],
   "source": [
    "\n",
    "\n",
    "string history = @\"분주한 주방에서 나는 가족들의 다양한 입맛을 맞추기 위해 노력하고 있다. \n",
    "까다로운 입맛을 가진 아이들과 알레르기 문제를 고려해야 하는 상황에서, 나의 요리 여정은 다양한 채식 요리법을 탐구하는 데 집중되어 있다.\n",
    "\n",
    "아이 중 한 명은 초록색 채소를 전혀 먹지 않으려 하고, 다른 한 명은 땅콩 알레르기가 있어서 식단 계획이 더 복잡하다. \n",
    "하지만 나는 창의력과 건강한 요리에 대한 열정으로, 아이들의 까다로운 입맛도 만족시키면서 건강하고 맛있는 채식 요리를 만들어내는 맛있는 도전을 이어가고 있다.\";\n",
    "\n",
    "string prompt = @\"사용자의 배경에 대한 정보: {{$history}}\n",
    "    사용자의 배경을 고려하여 관련된 레시피 목록을 제공해 주세요.\";\n",
    "\n",
    "var result = await kernel.InvokePromptAsync(prompt, new() { [\"history\"] = history });\n",
    "Console.WriteLine(result);\n"
   ]
  },
  {
   "cell_type": "markdown",
   "metadata": {},
   "source": [
    "레시피 목록을 제공하기 전에 사용자의 긴 백그라운드 정보를 요약하는 함수를 호출할 수 있습니다. 다음은 프롬프트에서 함수를 사용하는 방법에 대한 예입니다. 이 예에서 프롬프트는 제공된 $history 입력에 대해 `ConversationSummaryPlugin.SummarizeConversation`을 호출합니다. 이 함수는 사용자의 백그라운드 정보를 가져와 요약하고, 그 결과를 사용하여 관련 레시피 목록을 검색합니다. 프롬프트가 올바르게 작동하려면 `ConversationSummaryPlugin` 플러그 인을 추가해야 합니다."
   ]
  },
  {
   "cell_type": "code",
   "execution_count": 3,
   "metadata": {},
   "outputs": [
    {
     "name": "stdout",
     "output_type": "stream",
     "text": [
      "사용자의 배경을 고려하여 다양한 입맛과 알레르기를 포함한 채식 요리 레시피 목록을 제공해드리겠습니다. 여기에는 초록색 채소를 회피하는 아이도 즐길 수 있는 레시피와 땅콩 알레르기를 고려한 옵션이 포함되어 있습니다.\n",
      "\n",
      "### 1. **미니 당근치즈볼**\n",
      "**재료:**\n",
      "- 중간 크기 당근 3개, 껍질을 벗기고 갈아서\n",
      "- 크림치즈 200g (비건 크림치즈로 대체 가능)\n",
      "- 건포도 1/2컵\n",
      "- 꿀 2큰술 (메이플 시럽으로 대체 가능)\n",
      "- 바닐라 엑스트랙 1작은술\n",
      "- 시나몬 가루 1/2작은술 (선택 사항)\n",
      "\n",
      "**만드는 법:**\n",
      "1. 큰 그릇에 모든 재료를 넣고 잘 섞습니다.\n",
      "2. 소량의 혼합물을 손으로 동그란 볼 모양으로 만듭니다.\n",
      "3. 냉장고에 최소 1시간 동안 넣어 두세요.\n",
      "\n",
      "### 2. **고구마 캐서롤**\n",
      "**재료:**\n",
      "- 고구마 3개, 껍질을 벗기고 작게 썬 것\n",
      "- 올리브 오일 2큰술\n",
      "- 식빵 조각 1컵\n",
      "- 코코넛 슈가 3큰술 (또는 갈색 설탕)\n",
      "- 시나몬 가루 1작은술\n",
      "- 비건 버터 3큰술\n",
      "\n",
      "**만드는 법:**\n",
      "1. 고구마를 끓는 물에 넣고 부드러워질 때까지 15-20분 정도 삶아줍니다.\n",
      "2. 삶은 고구마를 으깨고 올리브 오일과 시나몬을 넣어 섞습니다.\n",
      "3. 으깬 고구마를 캐서롤 용기에 담고 평평하게 펴주세요.\n",
      "4. 식빵 조각과 코코넛 슈가, 비건 버터를 섞어 고구마 위에 골고루 뿌립니다.\n",
      "5. 180도로 예열된 오븐에 넣고 20-25분 동안 구워주세요.\n",
      "\n",
      "### 3. **렌틸콩 브라우니**\n",
      "**재료:**\n",
      "- 렌틸콩 2컵 (익힌 후)\n",
      "- 코코아 가루 1/2컵\n",
      "- 메이플 시럽 1/2컵\n",
      "- 코코넛 오일 1/4컵 (녹인 상태)\n",
      "- 바닐라 엑스트랙 1작은술\n",
      "- 베이킹 소다 1/2작은술\n",
      "- 소금 약간\n",
      "- 초콜릿 칩 1/2컵 (유제품 무첨가)\n",
      "\n",
      "**만드는 법:**\n",
      "1. 오븐을 180도로 예열합니다.\n",
      "2. 푸드 프로세서에 렌틸콩, 코코아 가루, 메이플 시럽, 코코넛 오일, 바닐라 엑스트랙, 베이킹 소다, 소금을 넣고 부드러워질 때까지 갈아줍니다.\n",
      "3. 초콜릿 칩을 섞어줍니다.\n",
      "4. 반죽을 기름을 약간 바른 브라우니 팬에 붓고 평평하게 펴줍니다.\n",
      "5. 20-25분 동안 굽습니다.\n",
      "6. 완전히 식힌 후 잘라주세요.\n",
      "\n",
      "### 4. **코코넛 크림 과일 샐러드**\n",
      "**재료:**\n",
      "- 딸기 1컵, 반으로 자른 것\n",
      "- 블루베리 1컵\n",
      "- 바나나 2개, 슬라이스\n",
      "- 사과 1개, 작게 썬 것\n",
      "- 통조림 코코넛 크림 1컵\n",
      "- 메이플 시럽 2큰술\n",
      "- 바닐라 엑스트랙 1작은술\n",
      "\n",
      "**만드는 법:**\n",
      "1. 모든 과일을 큰 그릇에 담습니다.\n",
      "2. 작은 그릇에 코코넛 크림, 메이플 시럽, 바닐라 엑스트랙을 섞어줍니다.\n",
      "3. 코코넛 크림 혼합물을 과일 위에 뿌리고 잘 섞어줍니다.\n",
      "4. 즉시 서빙하거나 냉장고에 살짝 차갑게 하세요.\n",
      "\n",
      "이 레시피들은 다양한 입맛과 영양 요구를 고려한 아이디어들입니다. 특히 초록색 채소를 피하는 아이들도 맛있게 즐길 수 있고, 땅콩 알레르기를 고려하여 안전하게 준비할 수 있으므로 한 번 시도해보세요!\r\n"
     ]
    }
   ],
   "source": [
    "#pragma warning disable SKEXP0050\n",
    "\n",
    "kernel.ImportPluginFromType<Microsoft.SemanticKernel.Plugins.Core.ConversationSummaryPlugin>();\n",
    "\n",
    "string prompt = @\"사용자 정보: \n",
    "    {{ConversationSummaryPlugin.SummarizeConversation $history}}\n",
    "\n",
    "    사용자의 배경을 고려하여 관련된 레시피 목록을 제공해 주세요.\";\n",
    "\n",
    "var result = await kernel.InvokePromptAsync(prompt, new() { [\"history\"] = history });\n",
    "Console.WriteLine(result);"
   ]
  },
  {
   "cell_type": "markdown",
   "metadata": {},
   "source": [
    "프롬프트에서 변수 및 함수를 사용하면 다른 입력으로 동적으로 채울 수 있는 재사용 가능한 템플릿을 만들 수 있습니다. 프롬프트 재사용은 다른 입력으로 동일한 작업을 수행하거나 향상된 결과를 위해 모델에 컨텍스트를 제공해야 하는 경우에 특히 유용합니다."
   ]
  },
  {
   "cell_type": "markdown",
   "metadata": {},
   "source": [
    "# 노래 제안에 중첩 함수 사용\n",
    "\n",
    "사용자가 최근에 재생한 노래를 기반으로 권장하는 노래를 생성하도록 LLM에게 요청하는 프롬프트와 네이티브 함수를 결합합니다."
   ]
  },
  {
   "attachments": {},
   "cell_type": "markdown",
   "metadata": {},
   "source": [
    "1. `MusicLibraryPlugin.cs` 파일에 다음 함수를 추가합니다."
   ]
  },
  {
   "cell_type": "code",
   "execution_count": 4,
   "metadata": {
    "dotnet_interactive": {
     "language": "csharp"
    },
    "polyglot_notebook": {
     "kernelName": "csharp"
    }
   },
   "outputs": [
    {
     "ename": "Error",
     "evalue": "(21,42): error CS0103: 'JsonNode' 이름이 현재 컨텍스트에 없습니다.\r\n(21,31): error CS0246: 'JsonArray' 형식 또는 네임스페이스 이름을 찾을 수 없습니다. using 지시문 또는 어셈블리 참조가 있는지 확인하세요.\r\n(23,27): error CS0246: 'JsonObject' 형식 또는 네임스페이스 이름을 찾을 수 없습니다. using 지시문 또는 어셈블리 참조가 있는지 확인하세요.",
     "output_type": "error",
     "traceback": [
      "(21,42): error CS0103: 'JsonNode' 이름이 현재 컨텍스트에 없습니다.\r\n",
      "(21,31): error CS0246: 'JsonArray' 형식 또는 네임스페이스 이름을 찾을 수 없습니다. using 지시문 또는 어셈블리 참조가 있는지 확인하세요.\r\n",
      "(23,27): error CS0246: 'JsonObject' 형식 또는 네임스페이스 이름을 찾을 수 없습니다. using 지시문 또는 어셈블리 참조가 있는지 확인하세요."
     ]
    }
   ],
   "source": [
    "public class MusicLibraryPlugin\n",
    "{\n",
    "    [KernelFunction, \n",
    "    Description(\"Get a list of music recently played by the user\")]\n",
    "    public static string GetRecentPlays()\n",
    "    {\n",
    "        string dir = Directory.GetCurrentDirectory();\n",
    "        string content = File.ReadAllText($\"{dir}/data/recentlyplayed.txt\");\n",
    "        return content;\n",
    "    }\n",
    "\n",
    "    [KernelFunction, Description(\"Add a song to the recently played list\")]\n",
    "    public static string AddToRecentlyPlayed(\n",
    "        [Description(\"The name of the artist\")] string artist, \n",
    "        [Description(\"The title of the song\")] string song, \n",
    "        [Description(\"The song genre\")] string genre)\n",
    "    {\n",
    "        // Read the existing content from the file\n",
    "        string filePath = \"data/recentlyplayed.txt\";\n",
    "        string jsonContent = File.ReadAllText(filePath);\n",
    "        var recentlyPlayed = (JsonArray) JsonNode.Parse(jsonContent);\n",
    "\n",
    "        var newSong = new JsonObject\n",
    "        {\n",
    "            [\"title\"] = song,\n",
    "            [\"artist\"] = artist,\n",
    "            [\"genre\"] = genre\n",
    "        };\n",
    "\n",
    "        recentlyPlayed.Insert(0, newSong);\n",
    "        File.WriteAllText(filePath, JsonSerializer.Serialize(recentlyPlayed,\n",
    "            new JsonSerializerOptions { WriteIndented = true }));\n",
    "\n",
    "        return $\"Added '{song}' to recently played\";\n",
    "    }\n",
    "    \n",
    "    [KernelFunction, Description(\"Get a list of music available to the user\")]\n",
    "    public static string GetMusicLibrary()\n",
    "    {\n",
    "        string dir = Directory.GetCurrentDirectory();\n",
    "        string content = File.ReadAllText($\"{dir}/data/musiclibrary.txt\");\n",
    "        return content;\n",
    "    }\n",
    "}"
   ]
  },
  {
   "cell_type": "markdown",
   "metadata": {},
   "source": [
    "2. Program.cs 파일을 다음 코드로 업데이트합니다. 이 코드에서는 네이티브 함수를 의미 체계 프롬프트와 결합합니다. 네이티브 함수는 LLM(대규모 언어 모델)이 자체적으로 액세스할 수 없는 사용자 데이터를 검색할 수 있으며, LLM은 텍스트 입력을 기반으로 권장하는 노래를 생성할 수 있습니다."
   ]
  },
  {
   "cell_type": "code",
   "execution_count": 5,
   "metadata": {
    "dotnet_interactive": {
     "language": "csharp"
    },
    "polyglot_notebook": {
     "kernelName": "csharp"
    }
   },
   "outputs": [
    {
     "ename": "Error",
     "evalue": "(2,29): error CS0246: 'MusicLibraryPlugin' 형식 또는 네임스페이스 이름을 찾을 수 없습니다. using 지시문 또는 어셈블리 참조가 있는지 확인하세요.",
     "output_type": "error",
     "traceback": [
      "(2,29): error CS0246: 'MusicLibraryPlugin' 형식 또는 네임스페이스 이름을 찾을 수 없습니다. using 지시문 또는 어셈블리 참조가 있는지 확인하세요."
     ]
    }
   ],
   "source": [
    "\n",
    "kernel.ImportPluginFromType<MusicLibraryPlugin>();\n",
    "\n",
    "var prompt = @\"This is a list of music available to the user:\n",
    "    {{MusicLibraryPlugin.GetMusicLibrary}} \n",
    "\n",
    "    This is a list of music the user has recently played:\n",
    "    {{MusicLibraryPlugin.GetRecentPlays}}\n",
    "\n",
    "    Based on their recently played music, suggest a song from\n",
    "    the list to play next\";\n",
    "\n",
    "result = await kernel.InvokePromptAsync(prompt);\n",
    "Console.WriteLine(result);\n"
   ]
  }
 ],
 "metadata": {
  "kernelspec": {
   "display_name": ".NET (C#)",
   "language": "C#",
   "name": ".net-csharp"
  },
  "language_info": {
   "name": "polyglot-notebook"
  },
  "polyglot_notebook": {
   "kernelInfo": {
    "defaultKernelName": "csharp",
    "items": [
     {
      "aliases": [],
      "name": "csharp"
     }
    ]
   }
  }
 },
 "nbformat": 4,
 "nbformat_minor": 2
}
