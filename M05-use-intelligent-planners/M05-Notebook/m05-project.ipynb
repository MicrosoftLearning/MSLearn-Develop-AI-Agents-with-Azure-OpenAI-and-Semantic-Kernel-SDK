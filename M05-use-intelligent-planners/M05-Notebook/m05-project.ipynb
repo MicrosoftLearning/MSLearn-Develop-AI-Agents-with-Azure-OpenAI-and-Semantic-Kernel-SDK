{
 "cells": [
  {
   "attachments": {},
   "cell_type": "markdown",
   "metadata": {},
   "source": [
    "# 플래너 알아보기\n",
    "\n",
    "지금까지는 작업을 수행하기 위해 함수와 프롬프트를 수동으로 호출했습니다. 그러나 시맨틱 커널 SDK는 AI를 사용하여 지정된 시나리오에 적절한 플러그 인을 자동으로 호출하는 플래너를 지원합니다.\n",
    "\n",
    "### 플래너란?\n",
    "플래너란 사용자의 요청을 실행 가능한 계획으로 변환하는 동적 도구입니다. 플래너는 사용자나 개발자의 요청일 수 있는 목표를 파악합니다. 목표를 달성하기 위해 플래너는 AI를 이용해 커널에 등록된 플러그 인을 선택하고 일련의 단계로 결합합니다.\n",
    "\n",
    "레시피와 쇼핑 목록을 추천하고 사용자가 주방에 가지고 있는 재료를 관리하는 플러그 인을 만들었다고 가정해 보세요. 플래너는 동적 사용자 입력을 위한 워크플로를 자동으로 만들 수 있습니다. 예를 들어, 사용자는 \"치킨 티카 마살라를 만들려면 무엇이 필요하나요?\"와 같은 요청을 입력할 수 있습니다. 플래너는 해당 시나리오에 대해 명시적으로 호출하지 않고도 올바른 함수를 자동으로 결합할 수 있습니다.\n",
    "\n",
    "### 작동 방식\n",
    "\n",
    "뒤에서 플래너는 LLM(대규모 언어 모델)에 대한 프롬프트를 사용하여 계획을 생성합니다. 플래너에게는 계획을 생성할 때 사용할 일련의 규칙이 제공됩니다. 규칙에는 계획을 만들기 위해 커널에 제공한 모든 함수에 대한 설명이 포함됩니다. 이 함수는 네이티브 함수에 설명을 포함하는 이유 중 일부입니다. 이러한 설명은 LLM이 계획을 생성할 때 사용할 함수를 결정하는 데 도움이 됩니다.\n",
    "\n",
    "다음은 Handlebars 플래너가 계획을 생성하는 데 사용하는 LLM 프롬프트의 일부입니다.\n",
    "\n",
    "```text\n",
    "## Start\n",
    "Now take a deep breath and accomplish the task:\n",
    "1. Keep the template short and sweet. Be as efficient as possible.\n",
    "2. Do not make up helpers or functions that were not provided to you, and be especially careful to NOT assume or use any helpers or operations that were not explicitly defined already.\n",
    "3. If you can't fully accomplish the goal with the available helpers, just print \"{{insufficientFunctionsErrorMessage}}\".\n",
    "4. Always start by identifying any important values in the goal. Then, use the `\\{{set}}` helper to create variables for each of these values.\n",
    "5. The template should use the \\{{json}} helper at least once to output the result of the final step.\n",
    "6. Don't forget to use the tips and tricks otherwise the template will not work.\n",
    "7. Don't close the ``` handlebars block until you're done with all the steps.\n",
    "```\n",
    "\n",
    "플래너를 사용하면 복잡한 시나리오를 처리할 수 있는 고급 애플리케이션을 쉽게 만들 수 있습니다."
   ]
  },
  {
   "cell_type": "markdown",
   "metadata": {},
   "source": [
    "## 플래너 사용 방법\n",
    "\n",
    "플래너는 함수와 프롬프트를 자동으로 실행하는 데 유용한 도구입니다. 현재 의미 체계 커널 플래너를 미리 볼 수 있습니다. 핸들바 플래너를 사용하려면 먼저 추가 기능 패키지를 설치해야 합니다."
   ]
  },
  {
   "cell_type": "markdown",
   "metadata": {},
   "source": [
    "그런 다음 `CreatePlanAsync`를 사용하여 새 플래너 개체를 만들고 여기에 목표를 전달합니다. 목표는 원하는 결과를 설명하는 문자열입니다. 그러면 플래너가 목표를 달성하기 위한 계획을 만듭니다. `CreatePlanAsync`는 사용자가 계획을 호출하고 실행하는 데 사용할 수 있는 `HandlebarsPlan` 개체를 반환합니다.\n",
    "\n",
    "예를 들어 다음 함수를 지원하는 몇 가지 성분 플러그 인이 있다고 가정해 보겠습니다.\n",
    "\n",
    "- `GetIngredients`: 사용자가 가지고 있는 재료 목록을 가져옵니다\n",
    "- `GetRecipe`: 주어진 레시피에 필요한 재료 목록을 가져옵니다\n",
    "- `GetMissingIngredients`: 주어진 레시피에 필요한 재료 중 사용자의 주방에 없는 재료 목록을 가져옵니다\n",
    "\n",
    "\n",
    "```csharp\n",
    "var planner = new HandlebarsPlanner(new HandlebarsPlannerOptions() { AllowLoops = true });\n",
    "\n",
    "string goal = @\"What ingredients is the user missing from their \n",
    "   current ingredients list to make a recipe for blueberry muffins\";\n",
    "\n",
    "var plan = await planner.CreatePlanAsync(kernel, goal);\n",
    "var result = await plan.InvokeAsync(kernel);\n",
    "Console.WriteLine(result);\n",
    "```\n",
    "\n",
    "결과는 다음 출력과 유사합니다.\n",
    "\n",
    "> Based on the list of ingredients for blueberry muffins, you are missing blueberries and salt from your available ingredients.\n",
    "\n",
    "생성된 계획을 저장하고 나중에 다시 로드할 수도 있습니다. 예를 들면 다음과 같습니다.\n",
    "\n",
    "```csharp\n",
    "var plan = await planner.CreatePlanAsync(kernel, goal);\n",
    "var serializedPlan = plan.ToString();\n",
    "\n",
    "HandlebarsPlan reloadedPlan = new HandlebarsPlan(serializedPlan);\n",
    "\n",
    "var result = await reloadedPlan.InvokeAsync(kernel);\n",
    "Console.WriteLine($\"Results: {result}\");\n",
    "```\n",
    "\n",
    "핸들바 플래너는 개발자가 동적 애플리케이션을 만들고 코드가 적은 복잡한 시나리오를 처리하는 데 도움이 되는 강력한 기능입니다. \n"
   ]
  },
  {
   "cell_type": "markdown",
   "metadata": {},
   "source": [
    "### 콘서트 제안 계획 작성\n",
    "\n",
    "1. Handlebars 플래너를 설치합니다. "
   ]
  },
  {
   "cell_type": "code",
   "execution_count": 15,
   "metadata": {
    "dotnet_interactive": {
     "language": "csharp"
    },
    "polyglot_notebook": {
     "kernelName": "csharp"
    }
   },
   "outputs": [
    {
     "data": {
      "text/html": [
       "<div><div></div><div></div><div><strong>Installed Packages</strong><ul><li><span>Microsoft.SemanticKernel, 1.2.0</span></li><li><span>Microsoft.SemanticKernel.Planners.Handlebars, 1.2.0-preview</span></li></ul></div></div>"
      ]
     },
     "metadata": {},
     "output_type": "display_data"
    }
   ],
   "source": [
    "// Load some helper functions, e.g. to load values from settings.json\n",
    "#!import config/Settings.cs\n",
    "#r \"nuget: Microsoft.SemanticKernel.Planners.Handlebars, 1.2.0-preview\"\n",
    "#r \"nuget: Microsoft.SemanticKernel, 1.2.0\"\n",
    "\n",
    "using Microsoft.SemanticKernel;\n",
    "using Kernel = Microsoft.SemanticKernel.Kernel;\n",
    "using System.ComponentModel;\n",
    "using System.Text.Json;\n",
    "using Microsoft.SemanticKernel.Planning.Handlebars;\n",
    "using Microsoft.SemanticKernel.PromptTemplates.Handlebars;\n",
    "using Microsoft.SemanticKernel.Connectors.OpenAI;\n",
    "\n",
    "var builder = Kernel.CreateBuilder();\n",
    "\n",
    "var (useAzureOpenAI, model, azureEndpoint, apiKey, orgId) = Settings.LoadFromFile();\n",
    "\n",
    "if (useAzureOpenAI)\n",
    "    builder.AddAzureOpenAIChatCompletion(model, azureEndpoint, apiKey);\n",
    "else\n",
    "    builder.AddOpenAIChatCompletion(model, apiKey, orgId);\n",
    "\n",
    "var kernel = builder.Build();"
   ]
  },
  {
   "cell_type": "markdown",
   "metadata": {},
   "source": [
    "2. `Plugins` 폴더에 `MusicConcertPlugin.cs`라는 새 파일을 만들고 코드를 추가했습니다.\n",
    "\n",
    "```csharp\n",
    "using System.ComponentModel;\n",
    "using Microsoft.SemanticKernel;\n",
    "\n",
    "public class MusicConcertPlugin\n",
    "{\n",
    "    [KernelFunction, Description(\"Get a list of upcoming concerts\")]\n",
    "    public static string GetTours()\n",
    "    {\n",
    "        string dir = Directory.GetCurrentDirectory();\n",
    "        string content = File.ReadAllText($\"{dir}/data/concertdates.txt\");\n",
    "        return content;\n",
    "    }\n",
    "}\n",
    "```\n",
    "\n",
    "`GetTours` 함수는 'concertdates.txt'라는 파일을 읽고 콘텐츠를 반환합니다. 이 함수는 예정된 콘서트 목록을 검색하는 데 사용됩니다.\n",
    "\n",
    "다음으로, 사용자가 최근에 연주한 음악을 기반으로 콘서트를 제안하도록 LLM에 요청하는 프롬프트를 만듭니다.\n",
    "\n",
    "3. 'Prompts' 폴더에 'SuggestConcert'라는 새 폴더를 만듭니다.\n",
    "4. 다음 콘텐츠로 'SuggestConcert' 폴더에 'config.json' 파일을 만듭니다.\n",
    "\n",
    "```json\n",
    "{\n",
    "    \"schema\": 1,\n",
    "    \"type\": \"completion\",\n",
    "    \"description\": \"Suggest a concert to the user\",\n",
    "    \"execution_settings\": {\n",
    "        \"default\": {\n",
    "            \"max_tokens\": 4000,\n",
    "            \"temperature\": 0\n",
    "        }\n",
    "    },\n",
    "    \"input_variables\": [\n",
    "        {\n",
    "            \"name\": \"upcomingConcerts\",\n",
    "            \"description\": \"A list of artist's upcoming concerts\",\n",
    "            \"required\": true\n",
    "        },\n",
    "        {\n",
    "            \"name\": \"recentlyPlayedSongs\",\n",
    "            \"description\": \"A list of songs recently played by the user\",\n",
    "            \"required\": true\n",
    "        },\n",
    "        {\n",
    "            \"name\": \"location\",\n",
    "            \"description\": \"The user's location\",\n",
    "            \"required\": true\n",
    "        }\n",
    "    ]\n",
    "}\n",
    "```\n",
    "5. 다음 콘텐츠로 `SuggestConcert` 폴더에 `skprompt.txt` 파일을 만듭니다.\n",
    "\n",
    "```text\n",
    "Based on the user's recently played songs:\n",
    "{{$recentlyPlayedSongs}}\n",
    "\n",
    "And a list of upcoming concerts:\n",
    "{{$upcomingConcerts}}\n",
    "\n",
    "Suggest an upcoming concert. The user lives in {{$location}}, \n",
    "please recommend a relevant concert that is close to their location.\n",
    "```\n",
    "\n",
    "이 프롬프트는 사용자가 최근에 재생한 노래와 위치를 기반으로 콘서트를 제안하도록 LLM에 요청합니다. 다음으로 계획 도구를 호출하여 목표를 달성하기 위해 플러그 인을 결합하는 계획을 만듭니다.\n"
   ]
  },
  {
   "cell_type": "code",
   "execution_count": 16,
   "metadata": {
    "dotnet_interactive": {
     "language": "csharp"
    },
    "polyglot_notebook": {
     "kernelName": "csharp"
    }
   },
   "outputs": [
    {
     "name": "stdout",
     "output_type": "stream",
     "text": [
      "Results: Based on your location in Redmond, WA, and your recently played songs, I recommend attending the Clairo concert in Seattle, WA. Here are the details:\n",
      "\n",
      "- **Artist:** Clairo\n",
      "- **Location:** Seattle, WA, USA\n",
      "- **Date:** February 14, 2024\n",
      "\n",
      "Clairo's music aligns with your interest in alternative and indie genres, making this concert a great fit for you. Enjoy the show!\r\n"
     ]
    }
   ],
   "source": [
    "#!import Plugins/MusicConcertPlugin.cs\n",
    "#!import Plugins/MusicLibraryPlugin.cs\n",
    "\n",
    "kernel.ImportPluginFromType<MusicLibraryPlugin>();\n",
    "kernel.ImportPluginFromType<MusicConcertPlugin>();\n",
    "kernel.ImportPluginFromPromptDirectory(\"Prompts\");\n",
    "\n",
    "#pragma warning disable SKEXP0060\n",
    "\n",
    "var planner = new HandlebarsPlanner(new HandlebarsPlannerOptions() { AllowLoops = true });\n",
    "\n",
    "string location = \"Redmond WA USA\";\n",
    "string goal = @$\"사용자가 최근에 재생한 음악을 바탕으로, ${location}에 거주하는 사용자를 위한 콘서트를 추천해 주세요. \";\n",
    "\n",
    "var plan = await planner.CreatePlanAsync(kernel, goal);\n",
    "var result = await plan.InvokeAsync(kernel);\n",
    "\n",
    "\n",
    "Console.WriteLine($\"Results: {result}\");"
   ]
  },
  {
   "cell_type": "markdown",
   "metadata": {},
   "source": [
    "Handlebars 플래너에서 생성된 계획을 조정할 수 있습니다. 이 연습에서는 계획을 생성하고, 템플릿을 조정하고, 이를 함수 프롬프트로 사용합니다."
   ]
  },
  {
   "cell_type": "code",
   "execution_count": 17,
   "metadata": {
    "dotnet_interactive": {
     "language": "csharp"
    },
    "polyglot_notebook": {
     "kernelName": "csharp"
    }
   },
   "outputs": [
    {
     "name": "stdout",
     "output_type": "stream",
     "text": [
      "Concert Plan: {{!-- Step 1: Specify user's location --}}\n",
      "{{set \"location\" \"Redmond WA USA\"}}\n",
      "\n",
      "{{!-- Step 2: Retrieve recently played songs --}}\n",
      "{{set \"recentlyPlayed\" (MusicLibraryPlugin-GetRecentPlays)}}\n",
      "\n",
      "{{!-- Step 3: Retrieve upcoming concerts --}}\n",
      "{{set \"upcomingConcerts\" (MusicConcertPlugin-GetTours)}}\n",
      "\n",
      "{{!-- Step 4: Suggest a concert based on recently played songs and user's location --}}\n",
      "{{set \"concertSuggestion\" (Prompts-SuggestConcert upcomingConcerts=upcomingConcerts recentlyPlayedSongs=recentlyPlayed location=location)}}\n",
      "\n",
      "{{!-- Step 5: Output the suggested concert --}}\n",
      "{{json concertSuggestion}}\r\n"
     ]
    }
   ],
   "source": [
    "Console.WriteLine($\"Concert Plan: {plan}\");"
   ]
  },
  {
   "cell_type": "markdown",
   "metadata": {},
   "source": [
    "다음 코드를 추가합니다. 이 코드에서는 사용자에게 노래를 제안하는 프롬프트에서 함수를 만듭니다. 그런 다음 커널 플러그 인에 추가합니다. 마지막으로 사용자에게 노래를 제안한다는 목표를 달성하기 위한 계획을 세우도록 플래너에게 지시합니다."
   ]
  },
  {
   "cell_type": "code",
   "execution_count": 18,
   "metadata": {
    "dotnet_interactive": {
     "language": "csharp"
    },
    "polyglot_notebook": {
     "kernelName": "csharp"
    }
   },
   "outputs": [
    {
     "name": "stdout",
     "output_type": "stream",
     "text": [
      "Song Plan:\n",
      "{{!-- Step 1: Get the list of recently played songs --}}\n",
      "{{set \"recentlyPlayedSongs\" (MusicLibraryPlugin-GetRecentPlays)}}\n",
      "\n",
      "{{!-- Step 2: Get the user's music library --}}\n",
      "{{set \"musicLibrary\" (MusicLibraryPlugin-GetMusicLibrary)}}\n",
      "\n",
      "{{!-- Step 3: Suggest a song based on recently played songs and the music library --}}\n",
      "{{set \"recommendedSong\" (SuggestSongPlugin-SuggestSong recentlyPlayedSongs=recentlyPlayedSongs musicLibrary=musicLibrary)}}\n",
      "\n",
      "{{!-- Step 4: Output the recommended song --}}\n",
      "{{json recommendedSong}}\n"
     ]
    }
   ],
   "source": [
    "#pragma warning disable SKEXP0060\n",
    "\n",
    "var songSuggesterFunction = kernel.CreateFunctionFromPrompt(\n",
    "    promptTemplate: @\"Based on the user's recently played music:\n",
    "        {{$recentlyPlayedSongs}}\n",
    "        recommend a song to the user from the music library:\n",
    "        {{$musicLibrary}}\",\n",
    "    functionName: \"SuggestSong\",\n",
    "    description: \"Suggest a song to the user\"\n",
    ");\n",
    "\n",
    "kernel.Plugins.AddFromFunctions(\"SuggestSongPlugin\", [songSuggesterFunction]);\n",
    "\n",
    "var songSuggestPlan = await planner.CreatePlanAsync(kernel, @\"사용자가 최근에 재생한 노래를 바탕으로 음악 라이브러리에서 노래를 추천해 주세요.\");\n",
    "\n",
    "Console.WriteLine(\"Song Plan:\");\n",
    "Console.WriteLine(songSuggestPlan);"
   ]
  },
  {
   "cell_type": "markdown",
   "metadata": {},
   "source": [
    "다음으로 만들어진 템플릿을 사용하여 고유한 Handlebars 계획을 만듭니다. 사용자가 콘서트를 요청하는 경우 콘서트 계획의 단계를 사용하고, 사용자가 노래를 요청하는 경우 노래 계획의 단계를 사용하려고 합니다.\n",
    "\n",
    "4. 다음 텍스트를 사용하여 `handlebarsTemplate.txt`라는 새 파일을 만듭니다. \n",
    "\n",
    "    {{#if ...}} 구문을 확인합니다. 이 구문은 C#의 기존 if-else 블록과 유사하게 Handlebars 플래너가 사용할 수 있는 조건문 역할을 합니다. if 문은 {{/if}}로 닫혀야 합니다. 또한 사용자 위치를 location 변수에 설정하는 {{set ...}} 문을 추가합니다.\n",
    "\n",
    "    이 템플릿에서 suggestConcert 변수가 true인 경우 플래너는 콘서트를 제안하는 단계를 완료합니다. 그렇지 않으면 노래 추천 단계가 완료됩니다. "
   ]
  },
  {
   "cell_type": "markdown",
   "metadata": {},
   "source": [
    "```\n",
    "{{#if suggestConcert}}\n",
    "    {{!-- Step 1: Identify key values --}}\n",
    "    {{set \"location\" location}} \n",
    "\n",
    "    {{!-- Step 2: Call the 'MusicLibraryPlugin-GetRecentPlays' helper to get the recently played music --}}     \n",
    "    {{set \"recentlyPlayedSongs\" (MusicLibraryPlugin-GetRecentPlays)}}\n",
    "\n",
    "    {{!-- Step 3: Call the 'MusicConcertsPlugin-GetConcerts' helper to get the list of upcoming concerts --}}   \n",
    "    {{set \"upcomingConcerts\" (MusicConcertsPlugin-GetConcerts)}}\n",
    "\n",
    "    {{!-- Step 4: Call the 'Prompts-SuggestConcert' helper to suggest a concert based on the provided inputs --}}\n",
    "    {{set \"suggestedConcert\" (Prompts-SuggestConcert input=location recentlyPlayedSongs=recentlyPlayedSongs upcomingConcerts=upcomingConcerts)}}\n",
    "\n",
    "    {{!-- Step 5: Output the suggested concert --}}\n",
    "    {{json suggestedConcert}}\n",
    "{{else}}\n",
    "    {{!-- Step 1: Identify key values --}}\n",
    "    {{set \"recentlyPlayedSongs\" (MusicLibraryPlugin-GetRecentPlays)}}\n",
    "    {{set \"musicLibrary\" (MusicLibraryPlugin-GetMusicLibrary)}}\n",
    "\n",
    "    {{!-- Step 2: Call custom helper to suggest a song --}}\n",
    "    {{set \"suggestedSong\" (SuggestSongPlugin-SuggestSong recentlyPlayedSongs musicLibrary)}}\n",
    "\n",
    "    {{!-- Step 3: Output the suggested song --}}\n",
    "    {{json suggestedSong}}\n",
    "{{/if}}\n",
    "```"
   ]
  },
  {
   "cell_type": "markdown",
   "metadata": {},
   "source": [
    "이 템플릿에서 `suggestConcert` 변수가 true인 경우 계획 도구는 콘서트를 제안하는 단계를 완료합니다. 그렇지 않으면 노래 추천 단계가 완료됩니다."
   ]
  },
  {
   "cell_type": "markdown",
   "metadata": {},
   "source": [
    "5. 기존 코드를 수정하여 Handlebars 계획을 제거합니다."
   ]
  },
  {
   "cell_type": "code",
   "execution_count": 19,
   "metadata": {
    "dotnet_interactive": {
     "language": "csharp"
    },
    "polyglot_notebook": {
     "kernelName": "csharp"
    }
   },
   "outputs": [],
   "source": [
    "string dir = Directory.GetCurrentDirectory();\n",
    "kernel = builder.Build();\n",
    "\n",
    "kernel.ImportPluginFromType<MusicLibraryPlugin>();\n",
    "kernel.ImportPluginFromType<MusicConcertPlugin>();\n",
    "kernel.ImportPluginFromPromptDirectory($\"{dir}/Prompts\");\n",
    "\n",
    "var songSuggesterFunction = kernel.CreateFunctionFromPrompt(\n",
    "    promptTemplate: @\"Based on the user's recently played music:\n",
    "    {{$recentlyPlayedSongs}}\n",
    "    recommend a song to the user from the music library:\n",
    "    {{$musicLibrary}}\",\n",
    "    functionName: \"SuggestSong\",\n",
    "    description: \"Suggest a song to the user\"\n",
    ");\n",
    "\n",
    "kernel.Plugins.AddFromFunctions(\"SuggestSongPlugin\", [songSuggesterFunction]);"
   ]
  },
  {
   "cell_type": "markdown",
   "metadata": {},
   "source": [
    "템플릿 파일을 읽고 다음 코드를 사용하여 함수를 만듭니다. 이 코드에서는 `Template` 개체를 `TemplateFormat`과 함께 커널 메서드 `CreateFunctionFromPrompt`에 전달합니다. `CreateFunctionFromPrompt`는 또한 지정된 템플릿을 구문 분석하는 방법을 커널에 알려 주는 `IPromptTemplateFactory` 형식을 허용합니다. `Handlebars` 템플릿을 사용하고 있으므로 `HandlebarsPromptTemplateFactory` 형식을 사용합니다."
   ]
  },
  {
   "cell_type": "code",
   "execution_count": 20,
   "metadata": {
    "dotnet_interactive": {
     "language": "csharp"
    },
    "polyglot_notebook": {
     "kernelName": "csharp"
    }
   },
   "outputs": [],
   "source": [
    "string dir = Directory.GetCurrentDirectory();\n",
    "string template = File.ReadAllText($\"{dir}/handlebarsTemplate.txt\");\n",
    "\n",
    "var handlebarsPromptFunction = kernel.CreateFunctionFromPrompt(\n",
    "    new PromptTemplateConfig() {\n",
    "        Template = template,\n",
    "        TemplateFormat = \"handlebars\"\n",
    "    }, new HandlebarsPromptTemplateFactory()\n",
    ");"
   ]
  },
  {
   "cell_type": "markdown",
   "metadata": {},
   "source": [
    "다음으로 몇 가지 인수를 사용하여 함수를 실행하고 결과를 확인해 보겠습니다.\n",
    "\n",
    "7. 다음 코드를 추가합니다. 생성된 출력은 최근에 재생된 음악을 기반으로 사용자에게 노래를 추천해야 합니다. 프롬프트는 최근 재생된 음악 목록을 기반으로 사용자에게 노래를 제안할 수 있었습니다. 또한 suggestConcert 변수를 true로 설정하여 어떤 일이 일어나는지 확인할 수도 있습니다!"
   ]
  },
  {
   "cell_type": "code",
   "execution_count": 21,
   "metadata": {
    "dotnet_interactive": {
     "language": "csharp"
    },
    "polyglot_notebook": {
     "kernelName": "csharp"
    }
   },
   "outputs": [
    {
     "name": "stdout",
     "output_type": "stream",
     "text": [
      "Mitski's \"Strawberry Blond\" is a fantastic recommendation! Mitski is known for her evocative lyrics and distinctive sound that blends elements of indie, alternative, and folk music. If you appreciate the emotional depth and storytelling in \"Loanh Quanh\" by Mademoiselle, you're likely to enjoy Mitski's work as well. Dive in and enjoy the unique soundscape she creates!\r\n"
     ]
    }
   ],
   "source": [
    "string location = \"Redmond WA USA\";\n",
    "var templateResult = await kernel.InvokeAsync(handlebarsPromptFunction,\n",
    "    new () {\n",
    "        { \"location\", location },\n",
    "        { \"suggestConcert\", false }\n",
    "    });\n",
    "\n",
    "Console.WriteLine(templateResult);"
   ]
  },
  {
   "cell_type": "markdown",
   "metadata": {},
   "source": [
    "\n",
    "## 플래너 최적화\n",
    "\n",
    "플래너는 유용하게 활용할 수 있는 도구로, 미리 정의된 함수를 손쉽게 조합하고 복잡한 사용자 시나리오를 다양하게 지원할 수 있습니다. 그러나 플래너를 사용하기 전에 몇 가지 중요한 사항을 고려해야 합니다. 성능, 비용, 정확성에서 발생할 수 있는 잠재적인 단점을 이해하고 이를 관리하면 플래너를 최대한 효율적으로 활용할 수 있습니다.\n",
    "\n",
    "### 성능\n",
    "플래너를 실행하려면 먼저 `CreatePlanAsync`를 호출하고, 이후 계획을 실행해야 합니다. 이 과정에서 전체 토큰 목록을 사용하여 목표를 위한 계획을 생성하므로 시간이 소요될 수 있습니다. 또한 계획을 실행하는 데도 시간이 걸리므로, 사용자가 입력한 후 플래너의 응답을 받기 전까지 아무 반응이 없으면 앱이 응답하지 않는다고 오해할 수 있습니다. 따라서 사용자가 기다리는 동안 플래너가 피드백을 제공하거나 첫 번째 응답을 빠르게 반환하는 것이 좋습니다.\n",
    "\n",
    "### 비용\n",
    "또 다른 고려 사항은 비용입니다. 플래너의 프롬프트와 생성된 계획은 많은 토큰을 소모할 수 있습니다. 특히 복잡한 계획을 생성하는 경우 토큰 사용량이 높아져 서비스 비용이 증가할 수 있습니다. 이 문제를 줄이기 위해서는, 자주 사용하는 시나리오에 미리 정의된 계획을 사용하거나, 적은 토큰으로도 계획이 가능하도록 함수를 최적화할 필요가 있습니다.\n",
    "\n",
    "### 정확성\n",
    "플래너는 때때로 잘못된 계획을 생성할 수 있습니다. 예를 들어 변수가 잘못 전달되거나, 형식 오류가 발생하거나, 잘못된 단계를 수행할 가능성이 있습니다. 이러한 오류를 최소화하려면 오류 처리를 강화하거나, 플래너에게 계획을 '수정'하도록 요청하여 문제를 해결할 수 있습니다. 안정성을 높이기 위한 한 가지 방법은 미리 생성된 계획을 사용하는 것입니다.\n",
    "\n",
    "### 미리 정의된 계획 사용\n",
    "일반적으로 사용자들이 자주 요청하는 시나리오가 있을 수 있습니다. 이러한 경우에는 성능 저하나 비용 발생을 줄이기 위해 미리 정의된 계획을 제공하는 것이 유용합니다. 미리 정의된 계획은 자주 사용되는 시나리오에 대해 오프라인으로 생성하여 프로젝트에 저장할 수 있으며, 사용자의 요구에 따라 해당 계획을 빠르게 제공할 수 있습니다. 이를 통해 성능과 안정성을 높이고 비용을 절감할 수 있습니다.\n",
    "\n",
    "이와 같은 사항들을 이해하고 활용하면 플래너를 통해 사용자 요구를 효율적으로 충족하는 동적인 애플리케이션을 개발할 수 있습니다."
   ]
  },
  {
   "cell_type": "markdown",
   "metadata": {},
   "source": [
    "## 자동 함수 호출\n",
    "\n",
    "시맨틱 커널 SDK는 강력한 자동 함수 호출 함수를 지원합니다. 자동 함수 호출을 사용하면 제공하는 일부 입력에서 사용할 함수와 프롬프트를 커널이 자동으로 선택할 수 있습니다. 이 기능을 사용하면 함수와 프롬프트를 수동으로 호출할 때보다 시간을 절약하고 애플리케이션을 더 스마트하게 만들 수 있습니다.\n",
    "\n",
    "자동 함수 호출을 사용하려면 이를 지원하는 OpenAI 모델을 사용해야 합니다. 현재 이러한 모델에는 버전 0613 이상인 GPT-3.5 터보와 GPT-4 모델이 포함됩니다.\n",
    "\n",
    "자동 함수 호출을 사용하려면 `OpenAIPromptExecutionSettings` 개체의 `ToolCallBehavior` 속성을 `AutoInvokeKernelFunctions`에 설정해야 합니다.\n",
    "\n",
    "예를 들어 다음 함수를 지원하는 몇 가지 성분 플러그 인이 있다고 가정해 보겠습니다.\n",
    "\n",
    "- GetIngredients: 사용자가 보유한 재료 목록을 가져옵니다\n",
    "- GetRecipe: 특정 레시피에 필요한 재료 목록을 가져옵니다\n",
    "- GetMissingIngredients: 특정 레시피에 필요한 재료 중 사용자의 주방에 없는 재료 목록을 가져옵니다"
   ]
  },
  {
   "cell_type": "markdown",
   "metadata": {},
   "source": [
    "```csharp\n",
    "using Microsoft.SemanticKernel;\n",
    "using Microsoft.SemanticKernel.Connectors.OpenAI;\n",
    "\n",
    "var builder = Kernel.CreateBuilder();\n",
    "builder.AddAzureOpenAIChatCompletion(\n",
    "    \"your-deployment-name\",\n",
    "    \"your-endpoint\",\n",
    "    \"your-api-key\",\n",
    "    \"deployment-model\");\n",
    "\n",
    "kernel.ImportPluginFromType<IngredientsPlugin>();\n",
    "kernel.ImportPluginFromPromptDirectory(\"Prompts/IngredientPrompts\");\n",
    "\n",
    "// Set the ToolCallBehavior property\n",
    "OpenAIPromptExecutionSettings settings = new()\n",
    "{\n",
    "    ToolCallBehavior = ToolCallBehavior.AutoInvokeKernelFunctions\n",
    "};\n",
    "\n",
    "string prompt = @\"What ingredients am I missing from my current list of ingredients \n",
    "    to make a recipe for aloo jeera?\";\n",
    "\n",
    "// Use the settings to automatically invoke plugins based on the prompt\n",
    "var result = await kernel.InvokePromptAsync(prompt, new(settings));\n",
    "\n",
    "Console.WriteLine(result);\n",
    "```"
   ]
  },
  {
   "cell_type": "markdown",
   "metadata": {},
   "source": [
    "재료 및 함수 세부 정보에 따라 이 코드의 출력은 다음 응답과 유사할 수 있습니다.\n",
    "\n",
    "```\n",
    "알루 지라 레시피에 필요한 재료 중, 당신이 가지고 있지 않은 항목은 다음과 같습니다:\n",
    "\n",
    "쿠민 씨앗\n",
    "청양고추\n",
    "생강\n",
    "강황 가루\n",
    "고춧가루\n",
    "고수 가루\n",
    "신선한 고수잎\n",
    "소금\n",
    "기름\n",
    "```"
   ]
  },
  {
   "cell_type": "markdown",
   "metadata": {},
   "source": [
    "AutoInvokeKernelFunctions 설정은 프롬프트를 실행하는 데 필요한 플러그 인을 자동으로 호출하여 더 적은 코드로 애플리케이션을 동적이고 강력하게 만듭니다. 이 기능은 다양한 시나리오를 처리할 수 있는 보다 복잡한 애플리케이션을 만드는 데 도움이 될 수 있습니다."
   ]
  },
  {
   "cell_type": "markdown",
   "metadata": {},
   "source": [
    "## 자동으로 함수 호출 연습하기\n",
    "\n",
    "시맨틱 커널 SDK를 사용하면 커널에서 참조되는 함수와 프롬프트를 자동으로 조정할 수 있습니다. 함수와 프롬프트를 수동으로 호출하는 대신 이 도구를 사용하면 시간을 절약하고 애플리케이션을 더욱 스마트하게 만들 수 있습니다. "
   ]
  },
  {
   "cell_type": "code",
   "execution_count": 27,
   "metadata": {
    "dotnet_interactive": {
     "language": "csharp"
    },
    "polyglot_notebook": {
     "kernelName": "csharp"
    }
   },
   "outputs": [
    {
     "name": "stdout",
     "output_type": "stream",
     "text": [
      "Based on your recent listens and current location in Portland, OR, you might enjoy attending the Kina Grannis concert. Here are the details:\n",
      "\n",
      "- **Artist:** Kina Grannis\n",
      "- **Location:** Portland, OR, USA\n",
      "- **Date:** February 14, 2024\n",
      "\n",
      "Given her indie and folk music style, it seems aligned with some of your recently played tracks. Enjoy the concert!\r\n"
     ]
    }
   ],
   "source": [
    "dir = Directory.GetCurrentDirectory();\n",
    "kernel = builder.Build();\n",
    "\n",
    "kernel.ImportPluginFromType<MusicLibraryPlugin>();\n",
    "kernel.ImportPluginFromType<MusicConcertPlugin>();\n",
    "kernel.ImportPluginFromPromptDirectory($\"{dir}/Prompts\");\n",
    "\n",
    "OpenAIPromptExecutionSettings settings = new()\n",
    "{\n",
    "    ToolCallBehavior = ToolCallBehavior.AutoInvokeKernelFunctions\n",
    "};\n",
    "\n",
    "string prompt = @\"저는 포틀랜드, 오리건 주에 살고 있습니다. 최근에 재생한 노래들과 다가오는 콘서트 목록을 바탕으로 어떤 콘서트를 추천해 주시겠어요?\";\n",
    "\n",
    "var result = await kernel.InvokePromptAsync(prompt, new(settings));\n",
    "\n",
    "Console.WriteLine(result);"
   ]
  },
  {
   "cell_type": "markdown",
   "metadata": {},
   "source": [
    "이전 연습에서는 함수를 수동으로 호출하거나 `Handlebars` 플래너를 사용하여 플러그 인을 함께 연결했습니다. `AutoInvokeKernelFunctions` 설정은 커널에서 참조되는 함수와 프롬프트를 자동으로 호출합니다. 이 도구를 사용하면 더 적은 코드를 사용하여 동적이고 강력한 애플리케이션을 만들 수 있습니다."
   ]
  }
 ],
 "metadata": {
  "kernelspec": {
   "display_name": ".NET (C#)",
   "language": "C#",
   "name": ".net-csharp"
  },
  "language_info": {
   "name": "polyglot-notebook"
  },
  "polyglot_notebook": {
   "kernelInfo": {
    "defaultKernelName": "csharp",
    "items": [
     {
      "aliases": [],
      "name": "csharp"
     }
    ]
   }
  }
 },
 "nbformat": 4,
 "nbformat_minor": 2
}
